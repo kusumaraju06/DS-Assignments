{
 "cells": [
  {
   "cell_type": "code",
   "execution_count": 1,
   "metadata": {
    "colab": {
     "base_uri": "https://localhost:8080/",
     "height": 423
    },
    "id": "ZfqnDRA5exTY",
    "outputId": "80383193-ff0f-4b7a-f77c-b30658c5a029"
   },
   "outputs": [
    {
     "data": {
      "text/html": [
       "<div>\n",
       "<style scoped>\n",
       "    .dataframe tbody tr th:only-of-type {\n",
       "        vertical-align: middle;\n",
       "    }\n",
       "\n",
       "    .dataframe tbody tr th {\n",
       "        vertical-align: top;\n",
       "    }\n",
       "\n",
       "    .dataframe thead th {\n",
       "        text-align: right;\n",
       "    }\n",
       "</style>\n",
       "<table border=\"1\" class=\"dataframe\">\n",
       "  <thead>\n",
       "    <tr style=\"text-align: right;\">\n",
       "      <th></th>\n",
       "      <th>Unnamed: 0</th>\n",
       "      <th>Data</th>\n",
       "      <th>Labels</th>\n",
       "    </tr>\n",
       "  </thead>\n",
       "  <tbody>\n",
       "    <tr>\n",
       "      <th>0</th>\n",
       "      <td>0</td>\n",
       "      <td>Xref: cantaloupe.srv.cs.cmu.edu alt.atheism:49...</td>\n",
       "      <td>alt.atheism</td>\n",
       "    </tr>\n",
       "    <tr>\n",
       "      <th>1</th>\n",
       "      <td>1</td>\n",
       "      <td>Xref: cantaloupe.srv.cs.cmu.edu alt.atheism:51...</td>\n",
       "      <td>alt.atheism</td>\n",
       "    </tr>\n",
       "    <tr>\n",
       "      <th>2</th>\n",
       "      <td>2</td>\n",
       "      <td>Newsgroups: alt.atheism\\nPath: cantaloupe.srv....</td>\n",
       "      <td>alt.atheism</td>\n",
       "    </tr>\n",
       "    <tr>\n",
       "      <th>3</th>\n",
       "      <td>3</td>\n",
       "      <td>Xref: cantaloupe.srv.cs.cmu.edu alt.atheism:51...</td>\n",
       "      <td>alt.atheism</td>\n",
       "    </tr>\n",
       "    <tr>\n",
       "      <th>4</th>\n",
       "      <td>4</td>\n",
       "      <td>Xref: cantaloupe.srv.cs.cmu.edu alt.atheism:51...</td>\n",
       "      <td>alt.atheism</td>\n",
       "    </tr>\n",
       "    <tr>\n",
       "      <th>...</th>\n",
       "      <td>...</td>\n",
       "      <td>...</td>\n",
       "      <td>...</td>\n",
       "    </tr>\n",
       "    <tr>\n",
       "      <th>19992</th>\n",
       "      <td>19992</td>\n",
       "      <td>Xref: cantaloupe.srv.cs.cmu.edu alt.atheism:54...</td>\n",
       "      <td>talk.religion.misc</td>\n",
       "    </tr>\n",
       "    <tr>\n",
       "      <th>19993</th>\n",
       "      <td>19993</td>\n",
       "      <td>Xref: cantaloupe.srv.cs.cmu.edu alt.atheism:54...</td>\n",
       "      <td>talk.religion.misc</td>\n",
       "    </tr>\n",
       "    <tr>\n",
       "      <th>19994</th>\n",
       "      <td>19994</td>\n",
       "      <td>Xref: cantaloupe.srv.cs.cmu.edu talk.religion....</td>\n",
       "      <td>talk.religion.misc</td>\n",
       "    </tr>\n",
       "    <tr>\n",
       "      <th>19995</th>\n",
       "      <td>19995</td>\n",
       "      <td>Xref: cantaloupe.srv.cs.cmu.edu talk.religion....</td>\n",
       "      <td>talk.religion.misc</td>\n",
       "    </tr>\n",
       "    <tr>\n",
       "      <th>19996</th>\n",
       "      <td>19996</td>\n",
       "      <td>Xref: cantaloupe.srv.cs.cmu.edu talk.abortion:...</td>\n",
       "      <td>talk.religion.misc</td>\n",
       "    </tr>\n",
       "  </tbody>\n",
       "</table>\n",
       "<p>19997 rows × 3 columns</p>\n",
       "</div>"
      ],
      "text/plain": [
       "       Unnamed: 0                                               Data  \\\n",
       "0               0  Xref: cantaloupe.srv.cs.cmu.edu alt.atheism:49...   \n",
       "1               1  Xref: cantaloupe.srv.cs.cmu.edu alt.atheism:51...   \n",
       "2               2  Newsgroups: alt.atheism\\nPath: cantaloupe.srv....   \n",
       "3               3  Xref: cantaloupe.srv.cs.cmu.edu alt.atheism:51...   \n",
       "4               4  Xref: cantaloupe.srv.cs.cmu.edu alt.atheism:51...   \n",
       "...           ...                                                ...   \n",
       "19992       19992  Xref: cantaloupe.srv.cs.cmu.edu alt.atheism:54...   \n",
       "19993       19993  Xref: cantaloupe.srv.cs.cmu.edu alt.atheism:54...   \n",
       "19994       19994  Xref: cantaloupe.srv.cs.cmu.edu talk.religion....   \n",
       "19995       19995  Xref: cantaloupe.srv.cs.cmu.edu talk.religion....   \n",
       "19996       19996  Xref: cantaloupe.srv.cs.cmu.edu talk.abortion:...   \n",
       "\n",
       "                   Labels  \n",
       "0             alt.atheism  \n",
       "1             alt.atheism  \n",
       "2             alt.atheism  \n",
       "3             alt.atheism  \n",
       "4             alt.atheism  \n",
       "...                   ...  \n",
       "19992  talk.religion.misc  \n",
       "19993  talk.religion.misc  \n",
       "19994  talk.religion.misc  \n",
       "19995  talk.religion.misc  \n",
       "19996  talk.religion.misc  \n",
       "\n",
       "[19997 rows x 3 columns]"
      ]
     },
     "execution_count": 1,
     "metadata": {},
     "output_type": "execute_result"
    }
   ],
   "source": [
    "# Step 1: Data Exploration and )Preprocessing\n",
    "\n",
    "import pandas as pd\n",
    "data = pd.read_csv(r\"C:\\Users\\KUSHMA\\Downloads\\Assignemnent Questions\\blogs_categories.csv\")\n",
    "data"
   ]
  },
  {
   "cell_type": "code",
   "execution_count": 2,
   "metadata": {
    "colab": {
     "base_uri": "https://localhost:8080/"
    },
    "id": "dgWNlcPYgPEi",
    "outputId": "cb063565-19de-43c9-aa6e-3fc668cc7b20"
   },
   "outputs": [
    {
     "name": "stdout",
     "output_type": "stream",
     "text": [
      "<class 'pandas.core.frame.DataFrame'>\n",
      "RangeIndex: 19997 entries, 0 to 19996\n",
      "Data columns (total 3 columns):\n",
      " #   Column      Non-Null Count  Dtype \n",
      "---  ------      --------------  ----- \n",
      " 0   Unnamed: 0  19997 non-null  int64 \n",
      " 1   Data        19997 non-null  object\n",
      " 2   Labels      19997 non-null  object\n",
      "dtypes: int64(1), object(2)\n",
      "memory usage: 468.8+ KB\n",
      "None\n"
     ]
    }
   ],
   "source": [
    "print(data.info())"
   ]
  },
  {
   "cell_type": "code",
   "execution_count": 3,
   "metadata": {
    "colab": {
     "base_uri": "https://localhost:8080/"
    },
    "id": "WKZ1J9zTgXu6",
    "outputId": "82556a9e-bbe5-41fb-d10c-c21e2cd78308"
   },
   "outputs": [
    {
     "name": "stdout",
     "output_type": "stream",
     "text": [
      "Missing values:\n",
      "Unnamed: 0    0\n",
      "Data          0\n",
      "Labels        0\n",
      "dtype: int64\n"
     ]
    }
   ],
   "source": [
    "# Check for missing values\n",
    "missing_values = data.isnull().sum()\n",
    "print(f\"Missing values:\\n{missing_values}\")"
   ]
  },
  {
   "cell_type": "code",
   "execution_count": 4,
   "metadata": {
    "colab": {
     "base_uri": "https://localhost:8080/"
    },
    "id": "jXOfhSEdgZOP",
    "outputId": "e29ed564-6888-47b1-f12c-c50ba24fc7cb"
   },
   "outputs": [
    {
     "name": "stdout",
     "output_type": "stream",
     "text": [
      "Category distribution:\n",
      "Labels\n",
      "alt.atheism                 1000\n",
      "comp.graphics               1000\n",
      "talk.politics.misc          1000\n",
      "talk.politics.mideast       1000\n",
      "talk.politics.guns          1000\n",
      "sci.space                   1000\n",
      "sci.med                     1000\n",
      "sci.electronics             1000\n",
      "sci.crypt                   1000\n",
      "rec.sport.hockey            1000\n",
      "rec.sport.baseball          1000\n",
      "rec.motorcycles             1000\n",
      "rec.autos                   1000\n",
      "misc.forsale                1000\n",
      "comp.windows.x              1000\n",
      "comp.sys.mac.hardware       1000\n",
      "comp.sys.ibm.pc.hardware    1000\n",
      "comp.os.ms-windows.misc     1000\n",
      "talk.religion.misc          1000\n",
      "soc.religion.christian       997\n",
      "Name: count, dtype: int64\n"
     ]
    }
   ],
   "source": [
    "# Display the distribution of categories\n",
    "category_distribution = data['Labels'].value_counts()\n",
    "print(f\"Category distribution:\\n{category_distribution}\")"
   ]
  },
  {
   "cell_type": "code",
   "execution_count": 5,
   "metadata": {
    "colab": {
     "base_uri": "https://localhost:8080/"
    },
    "id": "5fJ1FUs1gZtN",
    "outputId": "48c219e3-4869-480d-e09c-3501a52aa281"
   },
   "outputs": [
    {
     "name": "stdout",
     "output_type": "stream",
     "text": [
      "   Unnamed: 0                                               Data       Labels\n",
      "0           0  Xref: cantaloupe.srv.cs.cmu.edu alt.atheism:49...  alt.atheism\n",
      "1           1  Xref: cantaloupe.srv.cs.cmu.edu alt.atheism:51...  alt.atheism\n",
      "2           2  Newsgroups: alt.atheism\\nPath: cantaloupe.srv....  alt.atheism\n",
      "3           3  Xref: cantaloupe.srv.cs.cmu.edu alt.atheism:51...  alt.atheism\n",
      "4           4  Xref: cantaloupe.srv.cs.cmu.edu alt.atheism:51...  alt.atheism\n"
     ]
    }
   ],
   "source": [
    "print(data.head())"
   ]
  },
  {
   "cell_type": "code",
   "execution_count": null,
   "metadata": {
    "colab": {
     "base_uri": "https://localhost:8080/"
    },
    "id": "-lShbqwDgbor",
    "outputId": "09edd846-aeb1-4124-dad3-7ce7babd81d1"
   },
   "outputs": [
    {
     "name": "stderr",
     "output_type": "stream",
     "text": [
      "[nltk_data] Downloading package punkt to\n",
      "[nltk_data]     C:\\Users\\KUSHMA\\AppData\\Roaming\\nltk_data...\n",
      "[nltk_data]   Package punkt is already up-to-date!\n",
      "[nltk_data] Downloading package stopwords to\n",
      "[nltk_data]     C:\\Users\\KUSHMA\\AppData\\Roaming\\nltk_data...\n",
      "[nltk_data]   Package stopwords is already up-to-date!\n"
     ]
    }
   ],
   "source": [
    "import string\n",
    "import nltk\n",
    "from nltk.corpus import stopwords\n",
    "from nltk.tokenize import word_tokenize\n",
    "\n",
    "nltk.download('punkt')\n",
    "nltk.download('stopwords')\n",
    "\n",
    "def preprocess_text(text):\n",
    "    text = text.lower()\n",
    "    text = text.translate(str.maketrans('', '', string.punctuation))\n",
    "    tokens = word_tokenize(text)\n",
    "    tokens = [word for word in tokens if word not in stopwords.words('english')]\n",
    "    processed_text = ' '.join(tokens)\n",
    "    return processed_text\n",
    "\n",
    "data['Processed_Text'] = data['Data'].apply(preprocess_text)"
   ]
  },
  {
   "cell_type": "code",
   "execution_count": null,
   "metadata": {
    "colab": {
     "base_uri": "https://localhost:8080/"
    },
    "id": "w7ZyGRKagn35",
    "outputId": "16c543f5-8775-454f-da2a-57afca1a7507"
   },
   "outputs": [],
   "source": [
    "data['Processed_Text']"
   ]
  },
  {
   "cell_type": "code",
   "execution_count": null,
   "metadata": {
    "colab": {
     "base_uri": "https://localhost:8080/"
    },
    "id": "T5vDyCcThhrX",
    "outputId": "7c5b2e42-be09-4a56-dcf6-50b9ca802ac9"
   },
   "outputs": [],
   "source": [
    "from sklearn.feature_extraction.text import TfidfVectorizer\n",
    "tfidf_vectorizer = TfidfVectorizer()\n",
    "X = tfidf_vectorizer.fit_transform(data['Processed_Text'])\n",
    "print(X.shape)"
   ]
  },
  {
   "cell_type": "code",
   "execution_count": null,
   "metadata": {
    "colab": {
     "base_uri": "https://localhost:8080/"
    },
    "id": "bMdpQshBhrS7",
    "outputId": "c71003fa-ccd3-4541-a774-fc1defbee0ac"
   },
   "outputs": [],
   "source": [
    "# Step 2: Naive Bayes Model for Text Classification\n",
    "\n",
    "from sklearn.model_selection import train_test_split\n",
    "X_train, X_test, y_train, y_test = train_test_split(X, data['Labels'], test_size=0.2, random_state=42)\n",
    "X_train, X_test, y_train, y_test"
   ]
  },
  {
   "cell_type": "code",
   "execution_count": null,
   "metadata": {
    "colab": {
     "base_uri": "https://localhost:8080/"
    },
    "id": "GRXwoP_rhyQR",
    "outputId": "9d9cff1e-fc9f-42e1-f595-4c9c3b845192"
   },
   "outputs": [],
   "source": [
    "print(f\"Training set size: {X_train.shape}\")\n",
    "print(f\"Test set size: {X_test.shape}\")"
   ]
  },
  {
   "cell_type": "code",
   "execution_count": null,
   "metadata": {
    "colab": {
     "base_uri": "https://localhost:8080/",
     "height": 74
    },
    "id": "LP8oLpzfh7rs",
    "outputId": "5223a0cd-160e-4f15-8f11-1dc98e942fca"
   },
   "outputs": [],
   "source": [
    "from sklearn.naive_bayes import MultinomialNB\n",
    "\n",
    "# Initialize the Naive Bayes classifier\n",
    "nb_classifier = MultinomialNB()\n",
    "\n",
    "# Train the model on the training set\n",
    "nb_classifier.fit(X_train, y_train)"
   ]
  },
  {
   "cell_type": "code",
   "execution_count": null,
   "metadata": {
    "colab": {
     "base_uri": "https://localhost:8080/"
    },
    "id": "l-QP1fpFh-Uo",
    "outputId": "1e369127-000b-4b3d-e919-7ba21cd66cc8"
   },
   "outputs": [],
   "source": [
    "y_pred = nb_classifier.predict(X_test)\n",
    "print(y_pred)"
   ]
  },
  {
   "cell_type": "code",
   "execution_count": null,
   "metadata": {
    "colab": {
     "base_uri": "https://localhost:8080/"
    },
    "id": "kdUTyn6ziCZd",
    "outputId": "9002a594-0dd8-41e8-e1df-f702dfab1c24"
   },
   "outputs": [],
   "source": [
    "# Step 3: Sentiment Analysis\n",
    "\n",
    "from textblob import TextBlob\n",
    "def get_sentiment(text):\n",
    "    analysis = TextBlob(text)\n",
    "    if analysis.sentiment.polarity > 0:\n",
    "        return 'positive'\n",
    "    elif analysis.sentiment.polarity < 0:\n",
    "        return 'negative'\n",
    "    else:\n",
    "        return 'neutral'\n",
    "\n",
    "data['Sentiment'] = data['Data'].apply(get_sentiment)\n",
    "data['Sentiment']"
   ]
  },
  {
   "cell_type": "code",
   "execution_count": null,
   "metadata": {
    "colab": {
     "base_uri": "https://localhost:8080/"
    },
    "id": "A49V5WSaiL1t",
    "outputId": "8c037a3f-4934-4747-f5c2-3590f1ad5055"
   },
   "outputs": [],
   "source": [
    "# Display the distribution of sentiments\n",
    "sentiment_distribution = data['Sentiment'].value_counts()\n",
    "print(f\"Sentiment distribution:\\n{sentiment_distribution}\")"
   ]
  },
  {
   "cell_type": "code",
   "execution_count": null,
   "metadata": {
    "colab": {
     "base_uri": "https://localhost:8080/"
    },
    "id": "-2wHn5HBiZOt",
    "outputId": "7fe765ad-4242-4d80-a9a0-0ed0d76d56a6"
   },
   "outputs": [],
   "source": [
    "# Examine the distribution of sentiments across different categories\n",
    "sentiment_category_distribution = data.groupby('Labels')['Sentiment'].value_counts().unstack().fillna(0)\n",
    "print(f\"Sentiment distribution across categories:\\n{sentiment_category_distribution}\")"
   ]
  },
  {
   "cell_type": "code",
   "execution_count": null,
   "metadata": {
    "colab": {
     "base_uri": "https://localhost:8080/"
    },
    "id": "NTH1ZIlviZ_8",
    "outputId": "abb08aff-abba-46e9-ebb6-c4c797a569ca"
   },
   "outputs": [],
   "source": [
    "# Step 4: Evaluation\n",
    "\n",
    "from sklearn.metrics import accuracy_score, precision_score, recall_score, f1_score, classification_report\n",
    "accuracy = accuracy_score(y_test, y_pred)\n",
    "print(f\"Accuracy: {accuracy}\")"
   ]
  },
  {
   "cell_type": "code",
   "execution_count": null,
   "metadata": {
    "colab": {
     "base_uri": "https://localhost:8080/"
    },
    "id": "MyajYUFwig7-",
    "outputId": "8d08ebde-68f9-4963-f721-57617e0aa483"
   },
   "outputs": [],
   "source": [
    "# Calculate precision, recall, and F1-score\n",
    "precision = precision_score(y_test, y_pred, average='weighted')\n",
    "recall = recall_score(y_test, y_pred, average='weighted')\n",
    "f1 = f1_score(y_test, y_pred, average='weighted')\n",
    "print(f\"Precision: {precision}\")\n",
    "print(f\"Recall: {recall}\")\n",
    "print(f\"F1-score: {f1}\")"
   ]
  },
  {
   "cell_type": "code",
   "execution_count": null,
   "metadata": {
    "colab": {
     "base_uri": "https://localhost:8080/"
    },
    "id": "Yat2ebkjiguN",
    "outputId": "6310e2b7-99dc-4848-bd43-f26b50542506"
   },
   "outputs": [],
   "source": [
    "# Display the classification report\n",
    "classification_report = classification_report(y_test, y_pred)\n",
    "print(f\"Classification Report:\\n{classification_report}\")"
   ]
  },
  {
   "cell_type": "code",
   "execution_count": null,
   "metadata": {
    "colab": {
     "base_uri": "https://localhost:8080/"
    },
    "id": "ynvVo_SVik6p",
    "outputId": "9bda5453-b1bd-4540-82d3-6677e9316448"
   },
   "outputs": [],
   "source": [
    "# Reflect on the sentiment analysis results\n",
    "print(f\"Sentiment distribution:\\n{sentiment_distribution}\")\n",
    "print(f\"Sentiment distribution across categories:\\n{sentiment_category_distribution}\")\n",
    "\n",
    "# Discuss implications\n",
    "print(\"The sentiment analysis reveals the general sentiment expressed in the blog posts. We observe that...\")\n"
   ]
  }
 ],
 "metadata": {
  "colab": {
   "provenance": []
  },
  "kernelspec": {
   "display_name": "Python 3 (ipykernel)",
   "language": "python",
   "name": "python3"
  },
  "language_info": {
   "codemirror_mode": {
    "name": "ipython",
    "version": 3
   },
   "file_extension": ".py",
   "mimetype": "text/x-python",
   "name": "python",
   "nbconvert_exporter": "python",
   "pygments_lexer": "ipython3",
   "version": "3.11.7"
  }
 },
 "nbformat": 4,
 "nbformat_minor": 4
}
