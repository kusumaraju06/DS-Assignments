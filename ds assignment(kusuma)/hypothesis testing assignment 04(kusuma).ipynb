{
 "cells": [
  {
   "cell_type": "code",
   "execution_count": 3,
   "id": "73bd7562-8ba2-4e06-929d-a2f2ab989cab",
   "metadata": {},
   "outputs": [
    {
     "name": "stdout",
     "output_type": "stream",
     "text": [
      "Hypothesis Testing for Weekly Operating Costs\n",
      "\n",
      "Theoretical Mean Weekly Cost: 4000\n",
      "\n",
      "Sample Mean Weekly Cost: 3050\n",
      "\n",
      "Sample Size: 25\n",
      "\n",
      "Standard Deviation of Weekly Operating Cost: 125\n",
      "\n",
      "Test Statistic (t): -38.0\n",
      "\n",
      "Critical Value at alpha={alpha}: 1.6448536269514722\n",
      "\n",
      "Reject the null hypothesis: False\n",
      "\n",
      "\n",
      "Conclusion: There is not enough evidence to support the restaurant owners' claim that the weekly operating costs are higher than the model suggest.\n"
     ]
    }
   ],
   "source": [
    "import numpy as np\n",
    "import scipy.stats as stats\n",
    "\n",
    "sample_mean = 3050\n",
    "theoretical_mean = 1000 + 5 * 600\n",
    "std_dev_X = 25\n",
    "n = 25\n",
    "alpha = 0.05\n",
    "\n",
    "std_dev_W = 5 * std_dev_X\n",
    "t_stat = (sample_mean - theoretical_mean) / (std_dev_W / np.sqrt(n))\n",
    "\n",
    "critical_value = stats.norm.ppf(1 - alpha)\n",
    "\n",
    "reject_null = t_stat > critical_value\n",
    "\n",
    "print(\"Hypothesis Testing for Weekly Operating Costs\")\n",
    "print(\"\\nTheoretical Mean Weekly Cost:\",theoretical_mean)\n",
    "print(\"\\nSample Mean Weekly Cost:\",sample_mean)\n",
    "print(\"\\nSample Size:\",n)\n",
    "print(\"\\nStandard Deviation of Weekly Operating Cost:\",std_dev_W)\n",
    "print(\"\\nTest Statistic (t):\",t_stat)\n",
    "print(\"\\nCritical Value at alpha={alpha}:\",critical_value)\n",
    "print(\"\\nReject the null hypothesis:\",reject_null)\n",
    "print(\"\\n\")\n",
    "\n",
    "if reject_null:\n",
    "    print(\"Conclusion: There is strong evidence to support the restaurant owners' claim that the model suggests.\")\n",
    "else:\n",
    "    print(\"Conclusion: There is not enough evidence to support the restaurant owners' claim that the weekly operating costs are higher than the model suggest.\")"
   ]
  },
  {
   "cell_type": "code",
   "execution_count": null,
   "id": "9fe604e1-21c1-4e85-8489-7d0ee8aedbd6",
   "metadata": {},
   "outputs": [],
   "source": []
  }
 ],
 "metadata": {
  "kernelspec": {
   "display_name": "Python 3 (ipykernel)",
   "language": "python",
   "name": "python3"
  },
  "language_info": {
   "codemirror_mode": {
    "name": "ipython",
    "version": 3
   },
   "file_extension": ".py",
   "mimetype": "text/x-python",
   "name": "python",
   "nbconvert_exporter": "python",
   "pygments_lexer": "ipython3",
   "version": "3.11.7"
  }
 },
 "nbformat": 4,
 "nbformat_minor": 5
}
